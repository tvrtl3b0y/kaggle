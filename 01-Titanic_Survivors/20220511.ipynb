{
 "cells": [
  {
   "cell_type": "code",
   "execution_count": 78,
   "metadata": {},
   "outputs": [],
   "source": [
    "import pandas as pd\n",
    "import numpy as np\n",
    "from matplotlib import pyplot as plt\n",
    "import seaborn as sns\n",
    "import statsmodels.formula.api as smf\n",
    "from sklearn.metrics import confusion_matrix, accuracy_score\n",
    "\n",
    "from sklearn.model_selection import RepeatedKFold, GridSearchCV\n",
    "from sklearn.linear_model import LogisticRegression\n",
    "from sklearn.model_selection import cross_val_score"
   ]
  },
  {
   "cell_type": "code",
   "execution_count": 79,
   "metadata": {},
   "outputs": [
    {
     "data": {
      "text/html": [
       "<div>\n",
       "<style scoped>\n",
       "    .dataframe tbody tr th:only-of-type {\n",
       "        vertical-align: middle;\n",
       "    }\n",
       "\n",
       "    .dataframe tbody tr th {\n",
       "        vertical-align: top;\n",
       "    }\n",
       "\n",
       "    .dataframe thead th {\n",
       "        text-align: right;\n",
       "    }\n",
       "</style>\n",
       "<table border=\"1\" class=\"dataframe\">\n",
       "  <thead>\n",
       "    <tr style=\"text-align: right;\">\n",
       "      <th></th>\n",
       "      <th>PassengerId</th>\n",
       "      <th>Survived</th>\n",
       "      <th>Pclass</th>\n",
       "      <th>Name</th>\n",
       "      <th>Sex</th>\n",
       "      <th>Age</th>\n",
       "      <th>SibSp</th>\n",
       "      <th>Parch</th>\n",
       "      <th>Ticket</th>\n",
       "      <th>Fare</th>\n",
       "      <th>Cabin</th>\n",
       "      <th>Embarked</th>\n",
       "    </tr>\n",
       "  </thead>\n",
       "  <tbody>\n",
       "    <tr>\n",
       "      <th>0</th>\n",
       "      <td>1</td>\n",
       "      <td>0</td>\n",
       "      <td>3</td>\n",
       "      <td>Braund, Mr. Owen Harris</td>\n",
       "      <td>male</td>\n",
       "      <td>22.0</td>\n",
       "      <td>1</td>\n",
       "      <td>0</td>\n",
       "      <td>A/5 21171</td>\n",
       "      <td>7.2500</td>\n",
       "      <td>NaN</td>\n",
       "      <td>S</td>\n",
       "    </tr>\n",
       "    <tr>\n",
       "      <th>1</th>\n",
       "      <td>2</td>\n",
       "      <td>1</td>\n",
       "      <td>1</td>\n",
       "      <td>Cumings, Mrs. John Bradley (Florence Briggs Th...</td>\n",
       "      <td>female</td>\n",
       "      <td>38.0</td>\n",
       "      <td>1</td>\n",
       "      <td>0</td>\n",
       "      <td>PC 17599</td>\n",
       "      <td>71.2833</td>\n",
       "      <td>C85</td>\n",
       "      <td>C</td>\n",
       "    </tr>\n",
       "    <tr>\n",
       "      <th>2</th>\n",
       "      <td>3</td>\n",
       "      <td>1</td>\n",
       "      <td>3</td>\n",
       "      <td>Heikkinen, Miss. Laina</td>\n",
       "      <td>female</td>\n",
       "      <td>26.0</td>\n",
       "      <td>0</td>\n",
       "      <td>0</td>\n",
       "      <td>STON/O2. 3101282</td>\n",
       "      <td>7.9250</td>\n",
       "      <td>NaN</td>\n",
       "      <td>S</td>\n",
       "    </tr>\n",
       "    <tr>\n",
       "      <th>3</th>\n",
       "      <td>4</td>\n",
       "      <td>1</td>\n",
       "      <td>1</td>\n",
       "      <td>Futrelle, Mrs. Jacques Heath (Lily May Peel)</td>\n",
       "      <td>female</td>\n",
       "      <td>35.0</td>\n",
       "      <td>1</td>\n",
       "      <td>0</td>\n",
       "      <td>113803</td>\n",
       "      <td>53.1000</td>\n",
       "      <td>C123</td>\n",
       "      <td>S</td>\n",
       "    </tr>\n",
       "    <tr>\n",
       "      <th>4</th>\n",
       "      <td>5</td>\n",
       "      <td>0</td>\n",
       "      <td>3</td>\n",
       "      <td>Allen, Mr. William Henry</td>\n",
       "      <td>male</td>\n",
       "      <td>35.0</td>\n",
       "      <td>0</td>\n",
       "      <td>0</td>\n",
       "      <td>373450</td>\n",
       "      <td>8.0500</td>\n",
       "      <td>NaN</td>\n",
       "      <td>S</td>\n",
       "    </tr>\n",
       "  </tbody>\n",
       "</table>\n",
       "</div>"
      ],
      "text/plain": [
       "   PassengerId  Survived  Pclass  \\\n",
       "0            1         0       3   \n",
       "1            2         1       1   \n",
       "2            3         1       3   \n",
       "3            4         1       1   \n",
       "4            5         0       3   \n",
       "\n",
       "                                                Name     Sex   Age  SibSp  \\\n",
       "0                            Braund, Mr. Owen Harris    male  22.0      1   \n",
       "1  Cumings, Mrs. John Bradley (Florence Briggs Th...  female  38.0      1   \n",
       "2                             Heikkinen, Miss. Laina  female  26.0      0   \n",
       "3       Futrelle, Mrs. Jacques Heath (Lily May Peel)  female  35.0      1   \n",
       "4                           Allen, Mr. William Henry    male  35.0      0   \n",
       "\n",
       "   Parch            Ticket     Fare Cabin Embarked  \n",
       "0      0         A/5 21171   7.2500   NaN        S  \n",
       "1      0          PC 17599  71.2833   C85        C  \n",
       "2      0  STON/O2. 3101282   7.9250   NaN        S  \n",
       "3      0            113803  53.1000  C123        S  \n",
       "4      0            373450   8.0500   NaN        S  "
      ]
     },
     "execution_count": 79,
     "metadata": {},
     "output_type": "execute_result"
    }
   ],
   "source": [
    "df_train = pd.read_csv('data/train.csv')\n",
    "df_train.head()"
   ]
  },
  {
   "cell_type": "markdown",
   "metadata": {},
   "source": [
    "# Imputing Missing Data\n",
    "\n",
    "This time around, I'll be imputing `Age` and `Fare` in more detail. In theory, I won't know which data points will be missing, so I'll have to write the code that expects missing `Age` and `Fare` data and imputes them automatically."
   ]
  },
  {
   "cell_type": "code",
   "execution_count": 80,
   "metadata": {},
   "outputs": [
    {
     "data": {
      "text/html": [
       "<div>\n",
       "<style scoped>\n",
       "    .dataframe tbody tr th:only-of-type {\n",
       "        vertical-align: middle;\n",
       "    }\n",
       "\n",
       "    .dataframe tbody tr th {\n",
       "        vertical-align: top;\n",
       "    }\n",
       "\n",
       "    .dataframe thead th {\n",
       "        text-align: right;\n",
       "    }\n",
       "</style>\n",
       "<table border=\"1\" class=\"dataframe\">\n",
       "  <thead>\n",
       "    <tr style=\"text-align: right;\">\n",
       "      <th></th>\n",
       "      <th>mean</th>\n",
       "      <th>median</th>\n",
       "      <th>count</th>\n",
       "    </tr>\n",
       "    <tr>\n",
       "      <th>Sex</th>\n",
       "      <th></th>\n",
       "      <th></th>\n",
       "      <th></th>\n",
       "    </tr>\n",
       "  </thead>\n",
       "  <tbody>\n",
       "    <tr>\n",
       "      <th>female</th>\n",
       "      <td>27.915709</td>\n",
       "      <td>27.0</td>\n",
       "      <td>261</td>\n",
       "    </tr>\n",
       "    <tr>\n",
       "      <th>male</th>\n",
       "      <td>30.726645</td>\n",
       "      <td>29.0</td>\n",
       "      <td>453</td>\n",
       "    </tr>\n",
       "  </tbody>\n",
       "</table>\n",
       "</div>"
      ],
      "text/plain": [
       "             mean  median  count\n",
       "Sex                             \n",
       "female  27.915709    27.0    261\n",
       "male    30.726645    29.0    453"
      ]
     },
     "execution_count": 80,
     "metadata": {},
     "output_type": "execute_result"
    }
   ],
   "source": [
    "imputation_agg = [\n",
    "    'mean',\n",
    "    'median',\n",
    "    'count'\n",
    "]\n",
    "\n",
    "# Make a copy for analysis\n",
    "impute_df = df_train.copy()\n",
    "\n",
    "impute_df.groupby('Sex').Age.agg(imputation_agg)"
   ]
  },
  {
   "cell_type": "code",
   "execution_count": 81,
   "metadata": {},
   "outputs": [],
   "source": [
    "def extract_title(data):\n",
    "    # Titles\n",
    "    title_dict = {\n",
    "        \"Capt\": \"Officer\",\"Col\": \"Officer\",\"Major\": \"Officer\",\"Jonkheer\": \"Royalty\", \\\n",
    "            \"Don\": \"Royalty\", \"Sir\" : \"Royalty\",\"Dr\": \"Royalty\",\"Rev\": \"Royalty\", \\\n",
    "            \"Countess\":\"Royalty\", \"Mme\": \"Mrs\", \"Mlle\": \"Miss\", \"Ms\": \"Mrs\",\"Mr\" : \"Mr\", \\\n",
    "            \"Mrs\" : \"Mrs\",\"Miss\" : \"Miss\",\"Master\" : \"Master\",\"Lady\" : \"Royalty\", \"Dona\": \"Royalty\"\n",
    "    }\n",
    "    Title_raw = data.Name.str.extract(' ([A-Za-z]+)\\.', expand=False)\n",
    "    return Title_raw.map(title_dict)"
   ]
  },
  {
   "cell_type": "code",
   "execution_count": 82,
   "metadata": {},
   "outputs": [
    {
     "data": {
      "text/html": [
       "<div>\n",
       "<style scoped>\n",
       "    .dataframe tbody tr th:only-of-type {\n",
       "        vertical-align: middle;\n",
       "    }\n",
       "\n",
       "    .dataframe tbody tr th {\n",
       "        vertical-align: top;\n",
       "    }\n",
       "\n",
       "    .dataframe thead th {\n",
       "        text-align: right;\n",
       "    }\n",
       "</style>\n",
       "<table border=\"1\" class=\"dataframe\">\n",
       "  <thead>\n",
       "    <tr style=\"text-align: right;\">\n",
       "      <th></th>\n",
       "      <th>mean</th>\n",
       "      <th>median</th>\n",
       "      <th>count</th>\n",
       "    </tr>\n",
       "    <tr>\n",
       "      <th>Title</th>\n",
       "      <th></th>\n",
       "      <th></th>\n",
       "      <th></th>\n",
       "    </tr>\n",
       "  </thead>\n",
       "  <tbody>\n",
       "    <tr>\n",
       "      <th>Master</th>\n",
       "      <td>4.574167</td>\n",
       "      <td>3.5</td>\n",
       "      <td>36</td>\n",
       "    </tr>\n",
       "    <tr>\n",
       "      <th>Miss</th>\n",
       "      <td>21.804054</td>\n",
       "      <td>21.0</td>\n",
       "      <td>148</td>\n",
       "    </tr>\n",
       "    <tr>\n",
       "      <th>Mr</th>\n",
       "      <td>32.368090</td>\n",
       "      <td>30.0</td>\n",
       "      <td>398</td>\n",
       "    </tr>\n",
       "    <tr>\n",
       "      <th>Mrs</th>\n",
       "      <td>35.718182</td>\n",
       "      <td>35.0</td>\n",
       "      <td>110</td>\n",
       "    </tr>\n",
       "    <tr>\n",
       "      <th>Officer</th>\n",
       "      <td>56.600000</td>\n",
       "      <td>56.0</td>\n",
       "      <td>5</td>\n",
       "    </tr>\n",
       "    <tr>\n",
       "      <th>Royalty</th>\n",
       "      <td>42.294118</td>\n",
       "      <td>44.0</td>\n",
       "      <td>17</td>\n",
       "    </tr>\n",
       "  </tbody>\n",
       "</table>\n",
       "</div>"
      ],
      "text/plain": [
       "              mean  median  count\n",
       "Title                            \n",
       "Master    4.574167     3.5     36\n",
       "Miss     21.804054    21.0    148\n",
       "Mr       32.368090    30.0    398\n",
       "Mrs      35.718182    35.0    110\n",
       "Officer  56.600000    56.0      5\n",
       "Royalty  42.294118    44.0     17"
      ]
     },
     "execution_count": 82,
     "metadata": {},
     "output_type": "execute_result"
    }
   ],
   "source": [
    "impute_df['Title'] = extract_title(impute_df)\n",
    "impute_df.groupby('Title').Age.agg(imputation_agg)"
   ]
  },
  {
   "cell_type": "code",
   "execution_count": 83,
   "metadata": {},
   "outputs": [
    {
     "data": {
      "text/plain": [
       "Pclass\n",
       "1    38.233441\n",
       "2    29.877630\n",
       "3    25.140620\n",
       "Name: Age, dtype: float64"
      ]
     },
     "execution_count": 83,
     "metadata": {},
     "output_type": "execute_result"
    }
   ],
   "source": [
    "impute_df.groupby('Pclass').Age.mean()"
   ]
  },
  {
   "cell_type": "code",
   "execution_count": 84,
   "metadata": {},
   "outputs": [],
   "source": [
    "def impute_age(data, imputed_age_values):\n",
    "    return imputed_age_values.loc[\n",
    "        (imputed_age_values.Sex == data.Sex)\n",
    "        & (imputed_age_values.Title == data.Title)\n",
    "        & (imputed_age_values.Pclass == data.Pclass)\n",
    "        & (imputed_age_values.Parch == data.Parch)\n",
    "    ]"
   ]
  },
  {
   "cell_type": "code",
   "execution_count": 85,
   "metadata": {},
   "outputs": [
    {
     "data": {
      "text/html": [
       "<div>\n",
       "<style scoped>\n",
       "    .dataframe tbody tr th:only-of-type {\n",
       "        vertical-align: middle;\n",
       "    }\n",
       "\n",
       "    .dataframe tbody tr th {\n",
       "        vertical-align: top;\n",
       "    }\n",
       "\n",
       "    .dataframe thead th {\n",
       "        text-align: right;\n",
       "    }\n",
       "</style>\n",
       "<table border=\"1\" class=\"dataframe\">\n",
       "  <thead>\n",
       "    <tr style=\"text-align: right;\">\n",
       "      <th></th>\n",
       "      <th></th>\n",
       "      <th>mean</th>\n",
       "      <th>median</th>\n",
       "      <th>count</th>\n",
       "    </tr>\n",
       "    <tr>\n",
       "      <th>Pclass</th>\n",
       "      <th>Embarked</th>\n",
       "      <th></th>\n",
       "      <th></th>\n",
       "      <th></th>\n",
       "    </tr>\n",
       "  </thead>\n",
       "  <tbody>\n",
       "    <tr>\n",
       "      <th rowspan=\"3\" valign=\"top\">1</th>\n",
       "      <th>C</th>\n",
       "      <td>104.718529</td>\n",
       "      <td>78.2667</td>\n",
       "      <td>85</td>\n",
       "    </tr>\n",
       "    <tr>\n",
       "      <th>Q</th>\n",
       "      <td>90.000000</td>\n",
       "      <td>90.0000</td>\n",
       "      <td>2</td>\n",
       "    </tr>\n",
       "    <tr>\n",
       "      <th>S</th>\n",
       "      <td>70.364862</td>\n",
       "      <td>52.0000</td>\n",
       "      <td>127</td>\n",
       "    </tr>\n",
       "    <tr>\n",
       "      <th rowspan=\"3\" valign=\"top\">2</th>\n",
       "      <th>C</th>\n",
       "      <td>25.358335</td>\n",
       "      <td>24.0000</td>\n",
       "      <td>17</td>\n",
       "    </tr>\n",
       "    <tr>\n",
       "      <th>Q</th>\n",
       "      <td>12.350000</td>\n",
       "      <td>12.3500</td>\n",
       "      <td>3</td>\n",
       "    </tr>\n",
       "    <tr>\n",
       "      <th>S</th>\n",
       "      <td>20.327439</td>\n",
       "      <td>13.5000</td>\n",
       "      <td>164</td>\n",
       "    </tr>\n",
       "    <tr>\n",
       "      <th rowspan=\"3\" valign=\"top\">3</th>\n",
       "      <th>C</th>\n",
       "      <td>11.214083</td>\n",
       "      <td>7.8958</td>\n",
       "      <td>66</td>\n",
       "    </tr>\n",
       "    <tr>\n",
       "      <th>Q</th>\n",
       "      <td>11.183393</td>\n",
       "      <td>7.7500</td>\n",
       "      <td>72</td>\n",
       "    </tr>\n",
       "    <tr>\n",
       "      <th>S</th>\n",
       "      <td>14.644083</td>\n",
       "      <td>8.0500</td>\n",
       "      <td>353</td>\n",
       "    </tr>\n",
       "  </tbody>\n",
       "</table>\n",
       "</div>"
      ],
      "text/plain": [
       "                       mean   median  count\n",
       "Pclass Embarked                            \n",
       "1      C         104.718529  78.2667     85\n",
       "       Q          90.000000  90.0000      2\n",
       "       S          70.364862  52.0000    127\n",
       "2      C          25.358335  24.0000     17\n",
       "       Q          12.350000  12.3500      3\n",
       "       S          20.327439  13.5000    164\n",
       "3      C          11.214083   7.8958     66\n",
       "       Q          11.183393   7.7500     72\n",
       "       S          14.644083   8.0500    353"
      ]
     },
     "execution_count": 85,
     "metadata": {},
     "output_type": "execute_result"
    }
   ],
   "source": [
    "impute_df.groupby(['Pclass', 'Embarked']).Fare.agg(imputation_agg)"
   ]
  },
  {
   "cell_type": "code",
   "execution_count": 86,
   "metadata": {},
   "outputs": [],
   "source": [
    "def impute_fare(data, imputed_fare_values):\n",
    "    return imputed_fare_values.loc[\n",
    "        (imputed_fare_values.Pclass == data.Pclass)\n",
    "        & (imputed_fare_values.Embarked == data.Embarked)\n",
    "    ]"
   ]
  },
  {
   "cell_type": "markdown",
   "metadata": {},
   "source": [
    "# Other Fields\n",
    "\n",
    "I also want to see if I can do anything with the `Ticket` and `Cabin` fields."
   ]
  },
  {
   "cell_type": "code",
   "execution_count": 87,
   "metadata": {},
   "outputs": [
    {
     "data": {
      "text/plain": [
       "347082          7\n",
       "1601            7\n",
       "CA. 2343        7\n",
       "3101295         6\n",
       "CA 2144         6\n",
       "347088          6\n",
       "S.O.C. 14879    5\n",
       "382652          5\n",
       "4133            4\n",
       "347077          4\n",
       "19950           4\n",
       "2666            4\n",
       "W./C. 6608      4\n",
       "113781          4\n",
       "113760          4\n",
       "349909          4\n",
       "17421           4\n",
       "PC 17757        4\n",
       "LINE            4\n",
       "35273           3\n",
       "Name: Ticket, dtype: int64"
      ]
     },
     "execution_count": 87,
     "metadata": {},
     "output_type": "execute_result"
    }
   ],
   "source": [
    "df_train.Ticket.value_counts().sort_values(ascending=False).head(20)"
   ]
  },
  {
   "cell_type": "markdown",
   "metadata": {},
   "source": [
    "# Feature Engineering / Data Cleaning\n",
    "\n",
    "Given what I've learned about imputing `Age` and `Fare`, I'll be updating my `clean_data` function."
   ]
  },
  {
   "cell_type": "code",
   "execution_count": 88,
   "metadata": {},
   "outputs": [],
   "source": [
    "import re\n",
    "\n",
    "# Utility Functions\n",
    "def one_hot_encoding(data, field):\n",
    "    ohe_fields = pd.get_dummies(data[field], prefix=field)\n",
    "    for col in ohe_fields.columns.sort_values()[1:]:\n",
    "        data[col] = ohe_fields[col]\n",
    "    return data\n",
    "\n",
    "# Clean Ticket\n",
    "def clean_ticket(ticket_id):\n",
    "    if ticket_id.isnumeric():\n",
    "        return 'numeric'\n",
    "    else:\n",
    "        # return re.sub('[^A-Za-z]', '', ticket_id)\n",
    "        return 'alphanumeric'\n",
    "\n",
    "# Clean Cabin\n",
    "def clean_cabin(cabin_id):\n",
    "    if type(cabin_id) == float:\n",
    "        return 'numeric'\n",
    "    else:\n",
    "        # return re.sub('[^A-Za-z]', '', cabin_id)\n",
    "        return 'alphanumeric'"
   ]
  },
  {
   "cell_type": "code",
   "execution_count": 89,
   "metadata": {},
   "outputs": [],
   "source": [
    "def clean_data(data):\n",
    "    \"\"\"\n",
    "    Function for cleaning data\n",
    "    \"\"\"\n",
    "\n",
    "    data_return = data.copy()\n",
    "\n",
    "    # Create title field\n",
    "    data_return['Title'] = extract_title(data_return)\n",
    "\n",
    "    # Feature Engineer Ticket\n",
    "    data_return['Ticket_split'] = data_return.Ticket.apply(lambda x: clean_ticket(x))\n",
    "\n",
    "    # Feature Engineer Cabin\n",
    "    data_return['Cabin_split'] = data_return.Cabin.apply(lambda x: clean_cabin(x))\n",
    "\n",
    "    # Impute Age\n",
    "    imputed_age_values = data_return.groupby(['Sex', 'Title', 'Pclass', 'Parch']).Age.mean()\n",
    "    data_return['Age_cleaned'] = data_return.apply(lambda x: x.Age if pd.notna(x.Age) else imputed_age_values[x.Sex][x.Title][x.Pclass][x.Parch], axis=1)\n",
    "\n",
    "    # Impute Age (Test Only)\n",
    "    imputed_age_values_test = data_return.groupby(['Sex']).Age_cleaned.mean()\n",
    "    data_return['Age_cleaned'] = data_return.apply(lambda x: x.Age_cleaned if pd.notna(x.Age_cleaned) else imputed_age_values_test[x.Sex], axis=1)\n",
    "\n",
    "    # Impute Fare\n",
    "    imputed_fare_values = data.groupby(['Pclass', 'Embarked']).Fare.mean()\n",
    "    data_return['Fare_cleaned'] = data_return.apply(lambda x: x.Fare if pd.notna(x.Fare) else imputed_fare_values[x.Pclass][x.Embarked], axis=1)\n",
    "    data_return['Fare_cleaned**2'] = data_return['Fare_cleaned']**2\n",
    "    \n",
    "    # One-Hot Encoding\n",
    "    data_return = one_hot_encoding(data_return, 'Title')\n",
    "    data_return = one_hot_encoding(data_return, 'Embarked')\n",
    "    data_return = one_hot_encoding(data_return, 'Sex')\n",
    "    data_return = one_hot_encoding(data_return, 'Ticket_split')\n",
    "    data_return = one_hot_encoding(data_return, 'Cabin_split')\n",
    "\n",
    "    # Interaction variables\n",
    "    data_return['Sex_and_Parch'] = data_return.Sex_male * data_return.Parch\n",
    "    data_return['SibSp_and_Parch'] = data_return.SibSp * data_return.Parch\n",
    "    data_return['Sex_and_Pclass'] = data_return.Sex_male * data_return.Pclass\n",
    "    data_return['Sex_and_Fare'] = data_return.Sex_male * data_return.Fare_cleaned\n",
    "\n",
    "    # Normalize Age + Fare\n",
    "    data_return.Age_cleaned = (data_return.Age_cleaned - data_return.Age_cleaned.mean()) / data_return.Age_cleaned.std()\n",
    "    data_return.Fare_cleaned = (data_return.Fare_cleaned - data_return.Fare_cleaned.mean()) / data_return.Fare_cleaned.std()\n",
    "\n",
    "    # Drop columns\n",
    "    dropped_columns = [\n",
    "        'PassengerId',\n",
    "        'Ticket',\n",
    "        'Ticket_split',\n",
    "        'Cabin',\n",
    "        'Cabin_split',\n",
    "        'Name',\n",
    "        'Title',\n",
    "        'Sex',\n",
    "        'Embarked',\n",
    "        'Age',\n",
    "        'Fare'\n",
    "    ]\n",
    "\n",
    "    data_return.drop(dropped_columns, axis=1, inplace=True)\n",
    "\n",
    "    return data_return"
   ]
  },
  {
   "cell_type": "code",
   "execution_count": 90,
   "metadata": {},
   "outputs": [
    {
     "data": {
      "text/html": [
       "<div>\n",
       "<style scoped>\n",
       "    .dataframe tbody tr th:only-of-type {\n",
       "        vertical-align: middle;\n",
       "    }\n",
       "\n",
       "    .dataframe tbody tr th {\n",
       "        vertical-align: top;\n",
       "    }\n",
       "\n",
       "    .dataframe thead th {\n",
       "        text-align: right;\n",
       "    }\n",
       "</style>\n",
       "<table border=\"1\" class=\"dataframe\">\n",
       "  <thead>\n",
       "    <tr style=\"text-align: right;\">\n",
       "      <th></th>\n",
       "      <th>Survived</th>\n",
       "      <th>Pclass</th>\n",
       "      <th>SibSp</th>\n",
       "      <th>Parch</th>\n",
       "      <th>Age_cleaned</th>\n",
       "      <th>Fare_cleaned</th>\n",
       "      <th>Fare_cleaned**2</th>\n",
       "      <th>Title_Miss</th>\n",
       "      <th>Title_Mr</th>\n",
       "      <th>Title_Mrs</th>\n",
       "      <th>...</th>\n",
       "      <th>Title_Royalty</th>\n",
       "      <th>Embarked_Q</th>\n",
       "      <th>Embarked_S</th>\n",
       "      <th>Sex_male</th>\n",
       "      <th>Ticket_split_numeric</th>\n",
       "      <th>Cabin_split_numeric</th>\n",
       "      <th>Sex_and_Parch</th>\n",
       "      <th>SibSp_and_Parch</th>\n",
       "      <th>Sex_and_Pclass</th>\n",
       "      <th>Sex_and_Fare</th>\n",
       "    </tr>\n",
       "  </thead>\n",
       "  <tbody>\n",
       "    <tr>\n",
       "      <th>0</th>\n",
       "      <td>0</td>\n",
       "      <td>3</td>\n",
       "      <td>1</td>\n",
       "      <td>0</td>\n",
       "      <td>-0.552874</td>\n",
       "      <td>-0.502163</td>\n",
       "      <td>52.562500</td>\n",
       "      <td>0</td>\n",
       "      <td>1</td>\n",
       "      <td>0</td>\n",
       "      <td>...</td>\n",
       "      <td>0</td>\n",
       "      <td>0</td>\n",
       "      <td>1</td>\n",
       "      <td>1</td>\n",
       "      <td>0</td>\n",
       "      <td>1</td>\n",
       "      <td>0</td>\n",
       "      <td>0</td>\n",
       "      <td>3</td>\n",
       "      <td>7.25</td>\n",
       "    </tr>\n",
       "    <tr>\n",
       "      <th>1</th>\n",
       "      <td>1</td>\n",
       "      <td>1</td>\n",
       "      <td>1</td>\n",
       "      <td>0</td>\n",
       "      <td>0.628214</td>\n",
       "      <td>0.786404</td>\n",
       "      <td>5081.308859</td>\n",
       "      <td>0</td>\n",
       "      <td>0</td>\n",
       "      <td>1</td>\n",
       "      <td>...</td>\n",
       "      <td>0</td>\n",
       "      <td>0</td>\n",
       "      <td>0</td>\n",
       "      <td>0</td>\n",
       "      <td>0</td>\n",
       "      <td>0</td>\n",
       "      <td>0</td>\n",
       "      <td>0</td>\n",
       "      <td>0</td>\n",
       "      <td>0.00</td>\n",
       "    </tr>\n",
       "    <tr>\n",
       "      <th>2</th>\n",
       "      <td>1</td>\n",
       "      <td>3</td>\n",
       "      <td>0</td>\n",
       "      <td>0</td>\n",
       "      <td>-0.257602</td>\n",
       "      <td>-0.488580</td>\n",
       "      <td>62.805625</td>\n",
       "      <td>1</td>\n",
       "      <td>0</td>\n",
       "      <td>0</td>\n",
       "      <td>...</td>\n",
       "      <td>0</td>\n",
       "      <td>0</td>\n",
       "      <td>1</td>\n",
       "      <td>0</td>\n",
       "      <td>0</td>\n",
       "      <td>1</td>\n",
       "      <td>0</td>\n",
       "      <td>0</td>\n",
       "      <td>0</td>\n",
       "      <td>0.00</td>\n",
       "    </tr>\n",
       "    <tr>\n",
       "      <th>3</th>\n",
       "      <td>1</td>\n",
       "      <td>1</td>\n",
       "      <td>1</td>\n",
       "      <td>0</td>\n",
       "      <td>0.406760</td>\n",
       "      <td>0.420494</td>\n",
       "      <td>2819.610000</td>\n",
       "      <td>0</td>\n",
       "      <td>0</td>\n",
       "      <td>1</td>\n",
       "      <td>...</td>\n",
       "      <td>0</td>\n",
       "      <td>0</td>\n",
       "      <td>1</td>\n",
       "      <td>0</td>\n",
       "      <td>1</td>\n",
       "      <td>0</td>\n",
       "      <td>0</td>\n",
       "      <td>0</td>\n",
       "      <td>0</td>\n",
       "      <td>0.00</td>\n",
       "    </tr>\n",
       "    <tr>\n",
       "      <th>4</th>\n",
       "      <td>0</td>\n",
       "      <td>3</td>\n",
       "      <td>0</td>\n",
       "      <td>0</td>\n",
       "      <td>0.406760</td>\n",
       "      <td>-0.486064</td>\n",
       "      <td>64.802500</td>\n",
       "      <td>0</td>\n",
       "      <td>1</td>\n",
       "      <td>0</td>\n",
       "      <td>...</td>\n",
       "      <td>0</td>\n",
       "      <td>0</td>\n",
       "      <td>1</td>\n",
       "      <td>1</td>\n",
       "      <td>1</td>\n",
       "      <td>1</td>\n",
       "      <td>0</td>\n",
       "      <td>0</td>\n",
       "      <td>3</td>\n",
       "      <td>8.05</td>\n",
       "    </tr>\n",
       "  </tbody>\n",
       "</table>\n",
       "<p>5 rows × 21 columns</p>\n",
       "</div>"
      ],
      "text/plain": [
       "   Survived  Pclass  SibSp  Parch  Age_cleaned  Fare_cleaned  Fare_cleaned**2  \\\n",
       "0         0       3      1      0    -0.552874     -0.502163        52.562500   \n",
       "1         1       1      1      0     0.628214      0.786404      5081.308859   \n",
       "2         1       3      0      0    -0.257602     -0.488580        62.805625   \n",
       "3         1       1      1      0     0.406760      0.420494      2819.610000   \n",
       "4         0       3      0      0     0.406760     -0.486064        64.802500   \n",
       "\n",
       "   Title_Miss  Title_Mr  Title_Mrs  ...  Title_Royalty  Embarked_Q  \\\n",
       "0           0         1          0  ...              0           0   \n",
       "1           0         0          1  ...              0           0   \n",
       "2           1         0          0  ...              0           0   \n",
       "3           0         0          1  ...              0           0   \n",
       "4           0         1          0  ...              0           0   \n",
       "\n",
       "   Embarked_S  Sex_male  Ticket_split_numeric  Cabin_split_numeric  \\\n",
       "0           1         1                     0                    1   \n",
       "1           0         0                     0                    0   \n",
       "2           1         0                     0                    1   \n",
       "3           1         0                     1                    0   \n",
       "4           1         1                     1                    1   \n",
       "\n",
       "   Sex_and_Parch  SibSp_and_Parch  Sex_and_Pclass  Sex_and_Fare  \n",
       "0              0                0               3          7.25  \n",
       "1              0                0               0          0.00  \n",
       "2              0                0               0          0.00  \n",
       "3              0                0               0          0.00  \n",
       "4              0                0               3          8.05  \n",
       "\n",
       "[5 rows x 21 columns]"
      ]
     },
     "execution_count": 90,
     "metadata": {},
     "output_type": "execute_result"
    }
   ],
   "source": [
    "df_train_cleaned = clean_data(df_train)\n",
    "df_train_cleaned.head()"
   ]
  },
  {
   "cell_type": "code",
   "execution_count": 91,
   "metadata": {},
   "outputs": [
    {
     "data": {
      "text/html": [
       "<div>\n",
       "<style scoped>\n",
       "    .dataframe tbody tr th:only-of-type {\n",
       "        vertical-align: middle;\n",
       "    }\n",
       "\n",
       "    .dataframe tbody tr th {\n",
       "        vertical-align: top;\n",
       "    }\n",
       "\n",
       "    .dataframe thead th {\n",
       "        text-align: right;\n",
       "    }\n",
       "</style>\n",
       "<table border=\"1\" class=\"dataframe\">\n",
       "  <thead>\n",
       "    <tr style=\"text-align: right;\">\n",
       "      <th></th>\n",
       "      <th>Pclass</th>\n",
       "      <th>SibSp</th>\n",
       "      <th>Parch</th>\n",
       "      <th>Age_cleaned</th>\n",
       "      <th>Fare_cleaned</th>\n",
       "      <th>Fare_cleaned**2</th>\n",
       "      <th>Title_Miss</th>\n",
       "      <th>Title_Mr</th>\n",
       "      <th>Title_Mrs</th>\n",
       "      <th>Title_Officer</th>\n",
       "      <th>Title_Royalty</th>\n",
       "      <th>Embarked_Q</th>\n",
       "      <th>Embarked_S</th>\n",
       "      <th>Sex_male</th>\n",
       "      <th>Ticket_split_numeric</th>\n",
       "      <th>Cabin_split_numeric</th>\n",
       "      <th>Sex_and_Parch</th>\n",
       "      <th>SibSp_and_Parch</th>\n",
       "      <th>Sex_and_Pclass</th>\n",
       "      <th>Sex_and_Fare</th>\n",
       "    </tr>\n",
       "  </thead>\n",
       "  <tbody>\n",
       "    <tr>\n",
       "      <th>0</th>\n",
       "      <td>3</td>\n",
       "      <td>0</td>\n",
       "      <td>0</td>\n",
       "      <td>0.364189</td>\n",
       "      <td>-0.496790</td>\n",
       "      <td>61.296373</td>\n",
       "      <td>0</td>\n",
       "      <td>1</td>\n",
       "      <td>0</td>\n",
       "      <td>0</td>\n",
       "      <td>0</td>\n",
       "      <td>1</td>\n",
       "      <td>0</td>\n",
       "      <td>1</td>\n",
       "      <td>1</td>\n",
       "      <td>1</td>\n",
       "      <td>0</td>\n",
       "      <td>0</td>\n",
       "      <td>3</td>\n",
       "      <td>7.8292</td>\n",
       "    </tr>\n",
       "    <tr>\n",
       "      <th>1</th>\n",
       "      <td>3</td>\n",
       "      <td>1</td>\n",
       "      <td>0</td>\n",
       "      <td>1.325197</td>\n",
       "      <td>-0.511637</td>\n",
       "      <td>49.000000</td>\n",
       "      <td>0</td>\n",
       "      <td>0</td>\n",
       "      <td>1</td>\n",
       "      <td>0</td>\n",
       "      <td>0</td>\n",
       "      <td>0</td>\n",
       "      <td>1</td>\n",
       "      <td>0</td>\n",
       "      <td>1</td>\n",
       "      <td>1</td>\n",
       "      <td>0</td>\n",
       "      <td>0</td>\n",
       "      <td>0</td>\n",
       "      <td>0.0000</td>\n",
       "    </tr>\n",
       "    <tr>\n",
       "      <th>2</th>\n",
       "      <td>2</td>\n",
       "      <td>0</td>\n",
       "      <td>0</td>\n",
       "      <td>2.478406</td>\n",
       "      <td>-0.463518</td>\n",
       "      <td>93.847656</td>\n",
       "      <td>0</td>\n",
       "      <td>1</td>\n",
       "      <td>0</td>\n",
       "      <td>0</td>\n",
       "      <td>0</td>\n",
       "      <td>1</td>\n",
       "      <td>0</td>\n",
       "      <td>1</td>\n",
       "      <td>1</td>\n",
       "      <td>1</td>\n",
       "      <td>0</td>\n",
       "      <td>0</td>\n",
       "      <td>2</td>\n",
       "      <td>9.6875</td>\n",
       "    </tr>\n",
       "    <tr>\n",
       "      <th>3</th>\n",
       "      <td>3</td>\n",
       "      <td>0</td>\n",
       "      <td>0</td>\n",
       "      <td>-0.212416</td>\n",
       "      <td>-0.481870</td>\n",
       "      <td>75.038906</td>\n",
       "      <td>0</td>\n",
       "      <td>1</td>\n",
       "      <td>0</td>\n",
       "      <td>0</td>\n",
       "      <td>0</td>\n",
       "      <td>0</td>\n",
       "      <td>1</td>\n",
       "      <td>1</td>\n",
       "      <td>1</td>\n",
       "      <td>1</td>\n",
       "      <td>0</td>\n",
       "      <td>0</td>\n",
       "      <td>3</td>\n",
       "      <td>8.6625</td>\n",
       "    </tr>\n",
       "    <tr>\n",
       "      <th>4</th>\n",
       "      <td>3</td>\n",
       "      <td>1</td>\n",
       "      <td>1</td>\n",
       "      <td>-0.596819</td>\n",
       "      <td>-0.416965</td>\n",
       "      <td>150.982656</td>\n",
       "      <td>0</td>\n",
       "      <td>0</td>\n",
       "      <td>1</td>\n",
       "      <td>0</td>\n",
       "      <td>0</td>\n",
       "      <td>0</td>\n",
       "      <td>1</td>\n",
       "      <td>0</td>\n",
       "      <td>1</td>\n",
       "      <td>1</td>\n",
       "      <td>0</td>\n",
       "      <td>1</td>\n",
       "      <td>0</td>\n",
       "      <td>0.0000</td>\n",
       "    </tr>\n",
       "  </tbody>\n",
       "</table>\n",
       "</div>"
      ],
      "text/plain": [
       "   Pclass  SibSp  Parch  Age_cleaned  Fare_cleaned  Fare_cleaned**2  \\\n",
       "0       3      0      0     0.364189     -0.496790        61.296373   \n",
       "1       3      1      0     1.325197     -0.511637        49.000000   \n",
       "2       2      0      0     2.478406     -0.463518        93.847656   \n",
       "3       3      0      0    -0.212416     -0.481870        75.038906   \n",
       "4       3      1      1    -0.596819     -0.416965       150.982656   \n",
       "\n",
       "   Title_Miss  Title_Mr  Title_Mrs  Title_Officer  Title_Royalty  Embarked_Q  \\\n",
       "0           0         1          0              0              0           1   \n",
       "1           0         0          1              0              0           0   \n",
       "2           0         1          0              0              0           1   \n",
       "3           0         1          0              0              0           0   \n",
       "4           0         0          1              0              0           0   \n",
       "\n",
       "   Embarked_S  Sex_male  Ticket_split_numeric  Cabin_split_numeric  \\\n",
       "0           0         1                     1                    1   \n",
       "1           1         0                     1                    1   \n",
       "2           0         1                     1                    1   \n",
       "3           1         1                     1                    1   \n",
       "4           1         0                     1                    1   \n",
       "\n",
       "   Sex_and_Parch  SibSp_and_Parch  Sex_and_Pclass  Sex_and_Fare  \n",
       "0              0                0               3        7.8292  \n",
       "1              0                0               0        0.0000  \n",
       "2              0                0               2        9.6875  \n",
       "3              0                0               3        8.6625  \n",
       "4              0                1               0        0.0000  "
      ]
     },
     "execution_count": 91,
     "metadata": {},
     "output_type": "execute_result"
    }
   ],
   "source": [
    "test_data = pd.read_csv('data/test.csv')\n",
    "test_data_cleaned = clean_data(test_data)\n",
    "test_data_cleaned.head()"
   ]
  },
  {
   "cell_type": "code",
   "execution_count": 92,
   "metadata": {},
   "outputs": [],
   "source": [
    "# Ensure all columns are available in both\n",
    "missing_in_trained = list(set(test_data_cleaned.columns) - set(df_train_cleaned.columns))\n",
    "missing_in_test = list(set(df_train_cleaned.columns) - set(test_data_cleaned.columns))\n",
    "\n",
    "for col in missing_in_trained:\n",
    "    if col not in df_train_cleaned.columns:\n",
    "        df_train_cleaned[col] = 0\n",
    "\n",
    "for col in missing_in_test:\n",
    "    if col not in test_data_cleaned.columns:\n",
    "        test_data_cleaned[col] = 0"
   ]
  },
  {
   "cell_type": "code",
   "execution_count": 93,
   "metadata": {},
   "outputs": [
    {
     "data": {
      "text/plain": [
       "[]"
      ]
     },
     "execution_count": 93,
     "metadata": {},
     "output_type": "execute_result"
    }
   ],
   "source": [
    "list(set(df_train_cleaned.columns) - set(test_data_cleaned.columns))"
   ]
  },
  {
   "cell_type": "code",
   "execution_count": 94,
   "metadata": {},
   "outputs": [
    {
     "data": {
      "text/plain": [
       "[]"
      ]
     },
     "execution_count": 94,
     "metadata": {},
     "output_type": "execute_result"
    }
   ],
   "source": [
    "list(set(test_data_cleaned.columns) - set(df_train_cleaned.columns))"
   ]
  },
  {
   "cell_type": "code",
   "execution_count": 95,
   "metadata": {},
   "outputs": [
    {
     "data": {
      "text/plain": [
       "Index(['Survived', 'Pclass', 'SibSp', 'Parch', 'Age_cleaned', 'Fare_cleaned',\n",
       "       'Fare_cleaned**2', 'Title_Miss', 'Title_Mr', 'Title_Mrs',\n",
       "       'Title_Officer', 'Title_Royalty', 'Embarked_Q', 'Embarked_S',\n",
       "       'Sex_male', 'Ticket_split_numeric', 'Cabin_split_numeric',\n",
       "       'Sex_and_Parch', 'SibSp_and_Parch', 'Sex_and_Pclass', 'Sex_and_Fare'],\n",
       "      dtype='object')"
      ]
     },
     "execution_count": 95,
     "metadata": {},
     "output_type": "execute_result"
    }
   ],
   "source": [
    "df_train_cleaned.columns"
   ]
  },
  {
   "cell_type": "code",
   "execution_count": 96,
   "metadata": {},
   "outputs": [],
   "source": [
    "test_data_cleaned.drop('Survived', axis=1, inplace=True)"
   ]
  },
  {
   "cell_type": "markdown",
   "metadata": {},
   "source": [
    "# Model Selection\n",
    "\n",
    "In my previous attempt, I only used Logistic Regression with an L2 regularization. The default solver for both `statsmodels` and `scikit-learn` is maximum likelihood and L-BFGS respectively. \n",
    "\n",
    "Since `statsmodels` doesn't have a validation suite, I can't easily use k-Folds without building something on my own. For now, I'll use `scikit-learn` and play around with the model hyperparameters using `GridSearchCV`.\n",
    "\n",
    "Theoretically, L1 and L2 work similarly, except L1 forces the coefficients to be 0, making L1 norm more preferrable as it works similar to best subset selection. However, I'll check both just to see if there are any differences."
   ]
  },
  {
   "cell_type": "code",
   "execution_count": 105,
   "metadata": {},
   "outputs": [
    {
     "name": "stdout",
     "output_type": "stream",
     "text": [
      "Cross Validation Score Mean after Repeated K-Fold: 82.92%\n",
      "Cross Validation Score Std. Dev. after Repeated K-Fold: 0.03\n"
     ]
    },
    {
     "data": {
      "image/png": "[encoded data removed]",
      "text/plain": [
       "<Figure size 432x288 with 1 Axes>"
      ]
     },
     "metadata": {
      "needs_background": "light"
     },
     "output_type": "display_data"
    }
   ],
   "source": [
    "X = df_train_cleaned.drop('Survived', axis=1).copy()\n",
    "y = df_train_cleaned.Survived.copy()\n",
    "\n",
    "cv = RepeatedKFold(n_splits=5, n_repeats=100, random_state=654237)\n",
    "m01 = LogisticRegression(penalty='l1', solver='liblinear', C=2.782559402207126)\n",
    "m01.fit(X, y)\n",
    "\n",
    "scores = cross_val_score(m01, X, y, scoring='accuracy', cv=cv, n_jobs=-10)\n",
    "\n",
    "sns.histplot(x=scores, kde=True)\n",
    "\n",
    "print('Cross Validation Score Mean after Repeated K-Fold: {:0.2f}%'.format(np.mean(scores)*100))\n",
    "print('Cross Validation Score Std. Dev. after Repeated K-Fold: {:0.2f}'.format(np.std(scores)))"
   ]
  },
  {
   "cell_type": "code",
   "execution_count": 98,
   "metadata": {},
   "outputs": [
    {
     "data": {
      "text/plain": [
       "GridSearchCV(cv=10, estimator=LogisticRegression(),\n",
       "             param_grid=[{'C': array([1.00000000e-04, 7.74263683e-04, 5.99484250e-03, 4.64158883e-02,\n",
       "       3.59381366e-01, 2.78255940e+00, 2.15443469e+01, 1.66810054e+02,\n",
       "       1.29154967e+03, 1.00000000e+04]),\n",
       "                          'penalty': ['l1', 'l2'], 'solver': ['liblinear']}])"
      ]
     },
     "execution_count": 98,
     "metadata": {},
     "output_type": "execute_result"
    }
   ],
   "source": [
    "param_grid = [\n",
    "    {\n",
    "        'penalty' : ['l1', 'l2'],\n",
    "        'C' : np.logspace(-4, 4, 10),\n",
    "        'solver' : ['liblinear']\n",
    "    }\n",
    "]\n",
    "\n",
    "log_reg_grid_search = GridSearchCV(LogisticRegression(), param_grid, cv=10)\n",
    "log_reg_grid_search.fit(X, y)"
   ]
  },
  {
   "cell_type": "code",
   "execution_count": 99,
   "metadata": {},
   "outputs": [
    {
     "data": {
      "text/plain": [
       "{'C': 2.782559402207126, 'penalty': 'l1', 'solver': 'liblinear'}"
      ]
     },
     "execution_count": 99,
     "metadata": {},
     "output_type": "execute_result"
    }
   ],
   "source": [
    "log_reg_grid_search.best_params_"
   ]
  },
  {
   "cell_type": "code",
   "execution_count": 100,
   "metadata": {},
   "outputs": [
    {
     "data": {
      "text/plain": [
       "0.835043695380774"
      ]
     },
     "execution_count": 100,
     "metadata": {},
     "output_type": "execute_result"
    }
   ],
   "source": [
    "log_reg_grid_search.best_score_"
   ]
  },
  {
   "cell_type": "code",
   "execution_count": 101,
   "metadata": {},
   "outputs": [
    {
     "data": {
      "text/plain": [
       "LogisticRegression(C=2.782559402207126, penalty='l1', solver='liblinear')"
      ]
     },
     "execution_count": 101,
     "metadata": {},
     "output_type": "execute_result"
    }
   ],
   "source": [
    "m02 = LogisticRegression(\n",
    "    penalty=log_reg_grid_search.best_params_['penalty'],\n",
    "    solver=log_reg_grid_search.best_params_['solver'],\n",
    "    C=log_reg_grid_search.best_params_['C']\n",
    ")\n",
    "\n",
    "m02.fit(X, y)"
   ]
  },
  {
   "cell_type": "code",
   "execution_count": 102,
   "metadata": {},
   "outputs": [],
   "source": [
    "# @TODO: Create logit statsmodels with best hyper-parameters above and analyze results\n",
    "# Check for linearity between predictor and logit\n",
    "smf.logit(data=df_train_cleaned)"
   ]
  },
  {
   "cell_type": "markdown",
   "metadata": {},
   "source": [
    "# Exporting Results"
   ]
  },
  {
   "cell_type": "code",
   "execution_count": 103,
   "metadata": {},
   "outputs": [
    {
     "data": {
      "text/plain": [
       "array([0, 0, 0, 0, 1, 0, 1, 0, 1, 0])"
      ]
     },
     "execution_count": 103,
     "metadata": {},
     "output_type": "execute_result"
    }
   ],
   "source": [
    "m02_test_pred = m02.predict(test_data_cleaned)\n",
    "m02_test_pred[0:10]"
   ]
  },
  {
   "cell_type": "code",
   "execution_count": 104,
   "metadata": {},
   "outputs": [],
   "source": [
    "m02_test_pred_df = pd.DataFrame({'PassengerId': test_data.PassengerId, 'Survived': m02_test_pred})\n",
    "m02_test_pred_df.to_csv('submissions/20220511_submission.csv', index=False)"
   ]
  }
 ],
 "metadata": {
  "interpreter": {
   "hash": "1249fdc848431afc1dc1af0319f7e48ba3046af9a1d42023657ec742a71e13e3"
  },
  "kernelspec": {
   "display_name": "Python 3.9.7 ('base')",
   "language": "python",
   "name": "python3"
  },
  "language_info": {
   "codemirror_mode": {
    "name": "ipython",
    "version": 3
   },
   "file_extension": ".py",
   "mimetype": "text/x-python",
   "name": "python",
   "nbconvert_exporter": "python",
   "pygments_lexer": "ipython3",
   "version": "3.9.7"
  },
  "orig_nbformat": 4
 },
 "nbformat": 4,
 "nbformat_minor": 2
}
